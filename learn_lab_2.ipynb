{
 "cells": [
  {
   "cell_type": "code",
   "execution_count": 1,
   "metadata": {},
   "outputs": [
    {
     "name": "stdout",
     "output_type": "stream",
     "text": [
      "1.10.2\n"
     ]
    }
   ],
   "source": [
    "import torch\n",
    "import torch.nn.functional as F\n",
    "print(torch.__version__)\n",
    "\n",
    "# The PyG built-in GCNConv\n",
    "from torch_geometric.nn import GCNConv\n",
    "\n",
    "import torch_geometric.transforms as T\n",
    "from ogb.nodeproppred import PygNodePropPredDataset, Evaluator"
   ]
  },
  {
   "cell_type": "code",
   "execution_count": 2,
   "metadata": {},
   "outputs": [],
   "source": [
    "#dataset\n",
    "dataset_name = 'ogbn-arxiv'\n",
    "dataset = PygNodePropPredDataset(name=dataset_name,\n",
    "                                 transform=T.ToSparseTensor())\n",
    "\n",
    "data = dataset[0]\n",
    "device = 'cuda' if torch.cuda.is_available() else 'cpu'\n",
    "data=data.to(device)\n",
    "\n",
    "data.adj_t=data.adj_t.to_symmetric()\n",
    "split_idx=dataset.get_idx_split()\n",
    "device = 'cuda' if torch.cuda.is_available() else 'cpu'\n",
    "train_idx=split_idx['train'].to(device)\n"
   ]
  },
  {
   "cell_type": "code",
   "execution_count": 3,
   "metadata": {},
   "outputs": [],
   "source": [
    "\n",
    "data.adj_t=data.adj_t.to_symmetric()\n",
    "split_idx=dataset.get_idx_split()\n",
    "device = 'cuda' if torch.cuda.is_available() else 'cpu'\n",
    "train_idx=split_idx['train'].to(device)\n"
   ]
  },
  {
   "cell_type": "code",
   "execution_count": null,
   "metadata": {},
   "outputs": [],
   "source": []
  },
  {
   "cell_type": "markdown",
   "metadata": {},
   "source": [
    "Model\n",
    "![picture](cs224w-colab2-3.png)"
   ]
  },
  {
   "cell_type": "code",
   "execution_count": 4,
   "metadata": {},
   "outputs": [],
   "source": [
    "#models <-Construct the network as showing in the figure\n",
    "class GCN(torch.nn.Module):\n",
    "  def __init__(self, input_dim, hidden_dim,output_dim,num_layers,dropout,return_embeds=False):\n",
    "    super(GCN, self).__init__()\n",
    "    self.convs=None\n",
    "    self.bns=None\n",
    "    self.dropout=dropout\n",
    "    self.num_layers=num_layers\n",
    "    self.return_embeds=return_embeds\n",
    "    self.convs=torch.nn.ModuleList()\n",
    "    self.convs.append(GCNConv(input_dim, hidden_dim))\n",
    "    for i in range(num_layers-2):\n",
    "      self.convs.append(GCNConv(hidden_dim,hidden_dim))\n",
    "    self.convs.append(GCNConv(hidden_dim,output_dim))\n",
    "    self.bns=torch.nn.ModuleList([torch.nn.BatchNorm1d(hidden_dim) for i in range(num_layers-1)])\n",
    "    self.softmax=torch.nn.LogSoftmax()\n",
    "  \n",
    "  def reset_parameters(self):\n",
    "    for conv in self.convs:\n",
    "      conv.reset_parameters()\n",
    "    for bn in self.bns:\n",
    "      bn.reset_parameters()\n",
    "  def forward(self,x, adj_t):\n",
    "    for i in range(self.num_layers-1):\n",
    "      x=self.convs[i](x, adj_t)\n",
    "      x=self.bns[i](x)\n",
    "      x=F.relu(x)\n",
    "      x=F.dropout(x,self.dropout,self.training)\n",
    "    x=self.convs[-1](x,adj_t)\n",
    "    if not self.return_embeds:\n",
    "      x=self.softmax(x)\n",
    "    return x\n"
   ]
  },
  {
   "cell_type": "code",
   "execution_count": null,
   "metadata": {},
   "outputs": [],
   "source": []
  },
  {
   "cell_type": "code",
   "execution_count": 5,
   "metadata": {},
   "outputs": [
    {
     "name": "stdout",
     "output_type": "stream",
     "text": [
      "torch.Size([169343, 128])\n",
      "torch.Size([90941, 128])\n",
      "torch.Size([128])\n",
      "torch.Size([169343])\n",
      "torch.Size([90941])\n"
     ]
    }
   ],
   "source": [
    "print(data.x.shape)\n",
    "#取多行\n",
    "print(data.x[train_idx].shape)\n",
    "#取一行 降维\n",
    "print(data.x[0].shape)\n",
    "#取一列 降维\n",
    "print(data.x[:,0].shape)\n",
    "print(data.x[train_idx,0].shape)\n"
   ]
  },
  {
   "cell_type": "markdown",
   "metadata": {},
   "source": [
    "Train"
   ]
  },
  {
   "cell_type": "code",
   "execution_count": 6,
   "metadata": {},
   "outputs": [],
   "source": [
    "def train(model, data, train_idx, optimizer, loss_fn):\n",
    "    # TODO: Implement this function that trains the model by \n",
    "    # using the given optimizer and loss_fn.\n",
    "    model.train()\n",
    "    loss = 0\n",
    "\n",
    "    ############# Your code here ############\n",
    "    ## Note:\n",
    "    ## 1. Zero grad the optimizer\n",
    "    ## 2. Feed the data into the model\n",
    "    ## 3. Slicing the model output and label by train_idx\n",
    "    ## 4. Feed the sliced output and label to loss_fn\n",
    "    ## (~4 lines of code)\n",
    "    optimizer.zero_grad()\n",
    "    #x=data.x[train_idx]\n",
    "    y=data.y[train_idx,0]\n",
    "    #why  model(data.x[train_idx]) is wrong ?\n",
    "    l=loss_fn(model(data.x,data.adj_t)[train_idx],y)\n",
    "    l.backward()\n",
    "    optimizer.step()\n",
    "    return l.item()"
   ]
  },
  {
   "cell_type": "code",
   "execution_count": 7,
   "metadata": {},
   "outputs": [],
   "source": [
    "# Test function here\n",
    "@torch.no_grad()\n",
    "def test(model, data, split_idx, evaluator):\n",
    "    # TODO: Implement this function that tests the model by \n",
    "    # using the given split_idx and evaluator.\n",
    "    model.eval()\n",
    "    #Sets the module in evaluation mode.\n",
    "\n",
    "    # The output of model on all data\n",
    "    out = None\n",
    "\n",
    "    ############# Your code here ############\n",
    "    ## (~1 line of code)\n",
    "    ## Note:\n",
    "    ## 1. No index slicing here\n",
    "    out=model(data.x,data.adj_t)\n",
    "    #########################################\n",
    "    y_pred=torch.argmax(out,dim=-1,keepdim=True)\n",
    "    train_acc = evaluator.eval({\n",
    "        'y_true': data.y[split_idx['train']],\n",
    "        'y_pred': y_pred[split_idx['train']],\n",
    "    })['acc']\n",
    "    valid_acc = evaluator.eval({\n",
    "        'y_true': data.y[split_idx['valid']],\n",
    "        'y_pred': y_pred[split_idx['valid']],\n",
    "    })['acc']\n",
    "    test_acc = evaluator.eval({\n",
    "        'y_true': data.y[split_idx['test']],\n",
    "        'y_pred': y_pred[split_idx['test']],\n",
    "    })['acc']\n",
    "    return train_acc, valid_acc, test_acc\n",
    "  "
   ]
  },
  {
   "cell_type": "code",
   "execution_count": 8,
   "metadata": {},
   "outputs": [
    {
     "data": {
      "text/plain": [
       "{'device': 'cuda',\n",
       " 'num_layers': 3,\n",
       " 'hidden_dim': 256,\n",
       " 'dropout': 0.5,\n",
       " 'lr': 0.01,\n",
       " 'epochs': 100}"
      ]
     },
     "execution_count": 8,
     "metadata": {},
     "output_type": "execute_result"
    }
   ],
   "source": [
    "#hyperparameters\n",
    "args = {\n",
    "    'device': device,\n",
    "    'num_layers': 3,\n",
    "    'hidden_dim': 256,\n",
    "    'dropout': 0.5,\n",
    "    'lr': 0.01,\n",
    "    'epochs': 100,\n",
    "}\n",
    "#instanize\n",
    "model = GCN(data.num_features, args['hidden_dim'],\n",
    "            dataset.num_classes, args['num_layers'],\n",
    "            args['dropout']).to(device)\n",
    "evaluator = Evaluator(name='ogbn-arxiv')\n",
    "args"
   ]
  },
  {
   "cell_type": "code",
   "execution_count": 9,
   "metadata": {},
   "outputs": [],
   "source": [
    "#debug module is\n",
    "#model(data.x,data.adj_t)"
   ]
  },
  {
   "cell_type": "code",
   "execution_count": 10,
   "metadata": {},
   "outputs": [],
   "source": [
    "optimizer=torch.optim.Adam(model.parameters(),args['lr'])\n",
    "loss_fn=F.nll_loss\n",
    "#train(model,data,train_idx, optimizer, loss_fn)"
   ]
  },
  {
   "cell_type": "markdown",
   "metadata": {},
   "source": [
    "Training"
   ]
  },
  {
   "cell_type": "code",
   "execution_count": 11,
   "metadata": {},
   "outputs": [
    {
     "name": "stdout",
     "output_type": "stream",
     "text": [
      "epoch:00, train_acc:0.17, valid_acc:0.25 test_acc:0.23\n"
     ]
    },
    {
     "name": "stderr",
     "output_type": "stream",
     "text": [
      "C:\\Users\\qwe\\AppData\\Local\\Temp\\ipykernel_15204\\1815774667.py:31: UserWarning: Implicit dimension choice for log_softmax has been deprecated. Change the call to include dim=X as an argument.\n",
      "  x=self.softmax(x)\n"
     ]
    }
   ],
   "source": [
    "#train\n",
    "import copy\n",
    "# reset the parameters to initial random value\n",
    "model.reset_parameters()\n",
    "optimizer=torch.optim.Adam(model.parameters(),args['lr'])\n",
    "loss_fn=F.nll_loss\n",
    "\n",
    "best_acc=0\n",
    "best_model=None\n",
    "# skip node-level\n",
    "args['epochs']=1\n",
    "for epoch in range(args['epochs']):\n",
    "  loss=train(model,data,train_idx, optimizer, loss_fn)\n",
    "  train_acc, valid_acc, test_acc=test(model,data,split_idx,evaluator)\n",
    "  if valid_acc>best_acc:\n",
    "    best_acc=valid_acc\n",
    "    best_model=copy.deepcopy(model)\n",
    "  print(f'epoch:{epoch:02d},',f'train_acc:{train_acc:.2f},',f'valid_acc:{valid_acc:.2f}',f'test_acc:{test_acc:.2f}')"
   ]
  },
  {
   "cell_type": "markdown",
   "metadata": {},
   "source": [
    "# graph level\n"
   ]
  },
  {
   "cell_type": "markdown",
   "metadata": {},
   "source": [
    "dataprocess&hyperparam"
   ]
  },
  {
   "cell_type": "code",
   "execution_count": 12,
   "metadata": {},
   "outputs": [
    {
     "name": "stdout",
     "output_type": "stream",
     "text": [
      "binary classification\n",
      "tensor([[0],\n",
      "        [0],\n",
      "        [0],\n",
      "        ...,\n",
      "        [0],\n",
      "        [0],\n",
      "        [0]])\n"
     ]
    }
   ],
   "source": [
    "from ogb.graphproppred import PygGraphPropPredDataset, Evaluator\n",
    "from torch_geometric.data import DataLoader\n",
    "from tqdm.notebook import tqdm\n",
    "\n",
    "dataset=PygGraphPropPredDataset(name='ogbg-molhiv')\n",
    "device='cuda' if torch.cuda.is_available() else 'cpu'\n",
    "split_idx=dataset.get_idx_split()\n",
    "\n",
    "print(dataset.task_type)\n",
    "print(dataset.data.y)"
   ]
  },
  {
   "cell_type": "code",
   "execution_count": 13,
   "metadata": {},
   "outputs": [
    {
     "name": "stderr",
     "output_type": "stream",
     "text": [
      "C:\\Users\\qwe\\miniconda3\\envs\\gnn\\lib\\site-packages\\torch_geometric\\deprecation.py:13: UserWarning: 'data.DataLoader' is deprecated, use 'loader.DataLoader' instead\n",
      "  warnings.warn(out)\n"
     ]
    }
   ],
   "source": [
    "train_loader=DataLoader(dataset[split_idx[\"train\"]],batch_size=32,shuffle=True,num_workers=0)\n",
    "valid_loader=DataLoader(dataset[split_idx[\"valid\"]], batch_size=32,shuffle=False,num_workers=0)\n",
    "test_loader=DataLoader(dataset[split_idx[\"test\"]], batch_size=32,shuffle=False,num_workers=0)\n",
    "args = {\n",
    "    'device': device,\n",
    "    'num_layers': 5,\n",
    "    'hidden_dim': 256,\n",
    "    'dropout': 0.5,\n",
    "    'lr': 0.001,\n",
    "    'epochs': 30,\n",
    "}\n"
   ]
  },
  {
   "cell_type": "markdown",
   "metadata": {},
   "source": [
    "Model that reusing GCN"
   ]
  },
  {
   "cell_type": "code",
   "execution_count": 14,
   "metadata": {},
   "outputs": [],
   "source": [
    "from ogb.graphproppred.mol_encoder import AtomEncoder\n",
    "from torch_geometric.nn import global_add_pool, global_mean_pool\n",
    "\n",
    "class GCN_Graph(torch.nn.Module):\n",
    "    def __init__(self,hidden_dim,output_dim,num_layers,dropout):\n",
    "        super(GCN_Graph,self).__init__()\n",
    "        self.node_encoder=AtomEncoder(hidden_dim)\n",
    "        self.gnn_node=GCN(hidden_dim,hidden_dim,hidden_dim,num_layers,dropout,return_embeds=True)\n",
    "        self.pool=global_mean_pool\n",
    "        self.linear=torch.nn.Linear(hidden_dim,output_dim)\n",
    "    def reset_parameters(self):\n",
    "        self.gnn_node.reset_parameters()\n",
    "        self.linear.reset_parameters()\n",
    "    \n",
    "    def forward(self,batched_data):\n",
    "        x,edge_index,batch=batched_data.x,batched_data.edge_index, batched_data.batch\n",
    "        x=self.node_encoder(x)\n",
    "        x=self.gnn_node(x,edge_index)\n",
    "        x=self.pool(x,batch)\n",
    "        out=self.linear(x)\n",
    "\n",
    "        return out\n",
    "\n",
    "       "
   ]
  },
  {
   "cell_type": "markdown",
   "metadata": {},
   "source": [
    "train\n",
    "for batch \n",
    "\n",
    "1. to device\n",
    "2. zero grad\n",
    "3. loss(y,y_hat)\n",
    "4. backward\n",
    "5. step\n",
    "\n",
    "return loss.toitem"
   ]
  },
  {
   "cell_type": "markdown",
   "metadata": {},
   "source": [
    "## eval\n",
    "for batch_size\n",
    "batch.to(device)\n",
    "get list y,y_hat\n",
    "eval({\"y\":y,\"y_hat\":y_hat}})"
   ]
  },
  {
   "cell_type": "code",
   "execution_count": 19,
   "metadata": {},
   "outputs": [],
   "source": [
    "def train(model,device,data_loader,optimizer,loss_fn):\n",
    "    model.train()\n",
    "    loss=0\n",
    "    for step,batch in enumerate(tqdm(data_loader,desc=\"Iteration on single batch\")):\n",
    "        batch=batch.to(device)\n",
    "        optimizer.zero_grad()\n",
    "        out=model(batch).view(-1)\n",
    "        train_label=batch.y.view(-1)\n",
    "        loss=loss_fn(out.float(),train_label.float())\n",
    "        loss.backward()\n",
    "        optimizer.step()\n",
    "    return loss.item()\n",
    "\n",
    "def eval(model,device,data_loader,evaluator):\n",
    "    model.eval()\n",
    "    y_true=[]\n",
    "    y_pred=[]\n",
    "    #batch.y.shape?\n",
    "    for step,batch in enumerate(tqdm(data_loader,desc=\"Iteration on eval\")):\n",
    "        batch=batch.to(device)\n",
    "        with torch.no_grad():\n",
    "            t=model(batch)\n",
    "        #bug 写反了\n",
    "        y_pred.append(t.detach().cpu())\n",
    "        y_true.append(batch.y.view(t.shape).detach().cpu())\n",
    "    #y_true.shape?\n",
    "    y_true=torch.cat(y_true,dim=0).numpy()\n",
    "    y_pred=torch.cat(y_pred,dim=0).numpy()\n",
    "    #y_true[0][0]=1\n",
    "    input_dict={\"y_true\":y_true,\"y_pred\":y_pred}\n",
    "    return evaluator.eval(input_dict)"
   ]
  },
  {
   "cell_type": "markdown",
   "metadata": {},
   "source": [
    "## training\n",
    "for epoch\n",
    " loss\n",
    "\n",
    " get acc\n",
    " best model"
   ]
  },
  {
   "cell_type": "code",
   "execution_count": 21,
   "metadata": {},
   "outputs": [
    {
     "name": "stdout",
     "output_type": "stream",
     "text": [
      "training...\n"
     ]
    },
    {
     "data": {
      "application/vnd.jupyter.widget-view+json": {
       "model_id": "ffac19462a5843cea13b8a139611c2cc",
       "version_major": 2,
       "version_minor": 0
      },
      "text/plain": [
       "Iteration on single batch:   0%|          | 0/1029 [00:00<?, ?it/s]"
      ]
     },
     "metadata": {},
     "output_type": "display_data"
    },
    {
     "name": "stdout",
     "output_type": "stream",
     "text": [
      "Eval...\n"
     ]
    },
    {
     "data": {
      "application/vnd.jupyter.widget-view+json": {
       "model_id": "971fa051e3d948df9bf0eccbe9a6b140",
       "version_major": 2,
       "version_minor": 0
      },
      "text/plain": [
       "Iteration on eval:   0%|          | 0/129 [00:00<?, ?it/s]"
      ]
     },
     "metadata": {},
     "output_type": "display_data"
    },
    {
     "name": "stdout",
     "output_type": "stream",
     "text": [
      "Valid:72.33%\n",
      "training...\n"
     ]
    },
    {
     "data": {
      "application/vnd.jupyter.widget-view+json": {
       "model_id": "9b2e1bbc80e64527b92470b8dcc093d8",
       "version_major": 2,
       "version_minor": 0
      },
      "text/plain": [
       "Iteration on single batch:   0%|          | 0/1029 [00:00<?, ?it/s]"
      ]
     },
     "metadata": {},
     "output_type": "display_data"
    },
    {
     "name": "stdout",
     "output_type": "stream",
     "text": [
      "Eval...\n"
     ]
    },
    {
     "data": {
      "application/vnd.jupyter.widget-view+json": {
       "model_id": "8c97246c11fe4efcb61eab5c7d2c1067",
       "version_major": 2,
       "version_minor": 0
      },
      "text/plain": [
       "Iteration on eval:   0%|          | 0/129 [00:00<?, ?it/s]"
      ]
     },
     "metadata": {},
     "output_type": "display_data"
    },
    {
     "name": "stdout",
     "output_type": "stream",
     "text": [
      "Valid:68.02%\n",
      "training...\n"
     ]
    },
    {
     "data": {
      "application/vnd.jupyter.widget-view+json": {
       "model_id": "78f9e131e5dd4e7589bb146965963164",
       "version_major": 2,
       "version_minor": 0
      },
      "text/plain": [
       "Iteration on single batch:   0%|          | 0/1029 [00:00<?, ?it/s]"
      ]
     },
     "metadata": {},
     "output_type": "display_data"
    },
    {
     "name": "stdout",
     "output_type": "stream",
     "text": [
      "Eval...\n"
     ]
    },
    {
     "data": {
      "application/vnd.jupyter.widget-view+json": {
       "model_id": "9151f368321f4da09ea4a830bf904416",
       "version_major": 2,
       "version_minor": 0
      },
      "text/plain": [
       "Iteration on eval:   0%|          | 0/129 [00:00<?, ?it/s]"
      ]
     },
     "metadata": {},
     "output_type": "display_data"
    },
    {
     "name": "stdout",
     "output_type": "stream",
     "text": [
      "Valid:76.10%\n",
      "training...\n"
     ]
    },
    {
     "data": {
      "application/vnd.jupyter.widget-view+json": {
       "model_id": "b54cc340f4cd44b3bbdf95525f68243a",
       "version_major": 2,
       "version_minor": 0
      },
      "text/plain": [
       "Iteration on single batch:   0%|          | 0/1029 [00:00<?, ?it/s]"
      ]
     },
     "metadata": {},
     "output_type": "display_data"
    },
    {
     "name": "stdout",
     "output_type": "stream",
     "text": [
      "Eval...\n"
     ]
    },
    {
     "data": {
      "application/vnd.jupyter.widget-view+json": {
       "model_id": "ded05024543345549db8a210970f7470",
       "version_major": 2,
       "version_minor": 0
      },
      "text/plain": [
       "Iteration on eval:   0%|          | 0/129 [00:00<?, ?it/s]"
      ]
     },
     "metadata": {},
     "output_type": "display_data"
    },
    {
     "name": "stdout",
     "output_type": "stream",
     "text": [
      "Valid:72.62%\n",
      "training...\n"
     ]
    },
    {
     "data": {
      "application/vnd.jupyter.widget-view+json": {
       "model_id": "c47f826faa3b4bef877ac76b106e0a12",
       "version_major": 2,
       "version_minor": 0
      },
      "text/plain": [
       "Iteration on single batch:   0%|          | 0/1029 [00:00<?, ?it/s]"
      ]
     },
     "metadata": {},
     "output_type": "display_data"
    },
    {
     "name": "stdout",
     "output_type": "stream",
     "text": [
      "Eval...\n"
     ]
    },
    {
     "data": {
      "application/vnd.jupyter.widget-view+json": {
       "model_id": "ddcad730bfb4422ca482fe336286e8e9",
       "version_major": 2,
       "version_minor": 0
      },
      "text/plain": [
       "Iteration on eval:   0%|          | 0/129 [00:00<?, ?it/s]"
      ]
     },
     "metadata": {},
     "output_type": "display_data"
    },
    {
     "name": "stdout",
     "output_type": "stream",
     "text": [
      "Valid:74.42%\n",
      "training...\n"
     ]
    },
    {
     "data": {
      "application/vnd.jupyter.widget-view+json": {
       "model_id": "8fa8fdcdeed644ca87018adaf0a8da31",
       "version_major": 2,
       "version_minor": 0
      },
      "text/plain": [
       "Iteration on single batch:   0%|          | 0/1029 [00:00<?, ?it/s]"
      ]
     },
     "metadata": {},
     "output_type": "display_data"
    },
    {
     "name": "stdout",
     "output_type": "stream",
     "text": [
      "Eval...\n"
     ]
    },
    {
     "data": {
      "application/vnd.jupyter.widget-view+json": {
       "model_id": "05926807d2334b66a0df31e466c016b9",
       "version_major": 2,
       "version_minor": 0
      },
      "text/plain": [
       "Iteration on eval:   0%|          | 0/129 [00:00<?, ?it/s]"
      ]
     },
     "metadata": {},
     "output_type": "display_data"
    },
    {
     "name": "stdout",
     "output_type": "stream",
     "text": [
      "Valid:75.46%\n",
      "training...\n"
     ]
    },
    {
     "data": {
      "application/vnd.jupyter.widget-view+json": {
       "model_id": "4097f80739694a7f972507f77f8b435f",
       "version_major": 2,
       "version_minor": 0
      },
      "text/plain": [
       "Iteration on single batch:   0%|          | 0/1029 [00:00<?, ?it/s]"
      ]
     },
     "metadata": {},
     "output_type": "display_data"
    },
    {
     "name": "stdout",
     "output_type": "stream",
     "text": [
      "Eval...\n"
     ]
    },
    {
     "data": {
      "application/vnd.jupyter.widget-view+json": {
       "model_id": "a49e7477fe0f46f2bb02a3b5a5666762",
       "version_major": 2,
       "version_minor": 0
      },
      "text/plain": [
       "Iteration on eval:   0%|          | 0/129 [00:00<?, ?it/s]"
      ]
     },
     "metadata": {},
     "output_type": "display_data"
    },
    {
     "name": "stdout",
     "output_type": "stream",
     "text": [
      "Valid:76.79%\n",
      "training...\n"
     ]
    },
    {
     "data": {
      "application/vnd.jupyter.widget-view+json": {
       "model_id": "b71116d82f034087afc6d31f2f2d8671",
       "version_major": 2,
       "version_minor": 0
      },
      "text/plain": [
       "Iteration on single batch:   0%|          | 0/1029 [00:00<?, ?it/s]"
      ]
     },
     "metadata": {},
     "output_type": "display_data"
    },
    {
     "name": "stdout",
     "output_type": "stream",
     "text": [
      "Eval...\n"
     ]
    },
    {
     "data": {
      "application/vnd.jupyter.widget-view+json": {
       "model_id": "36e03e284f9547288c48c5bfa73c373a",
       "version_major": 2,
       "version_minor": 0
      },
      "text/plain": [
       "Iteration on eval:   0%|          | 0/129 [00:00<?, ?it/s]"
      ]
     },
     "metadata": {},
     "output_type": "display_data"
    },
    {
     "name": "stdout",
     "output_type": "stream",
     "text": [
      "Valid:71.90%\n",
      "training...\n"
     ]
    },
    {
     "data": {
      "application/vnd.jupyter.widget-view+json": {
       "model_id": "a2d211a00cb04e87ae30732827d6749c",
       "version_major": 2,
       "version_minor": 0
      },
      "text/plain": [
       "Iteration on single batch:   0%|          | 0/1029 [00:00<?, ?it/s]"
      ]
     },
     "metadata": {},
     "output_type": "display_data"
    },
    {
     "name": "stdout",
     "output_type": "stream",
     "text": [
      "Eval...\n"
     ]
    },
    {
     "data": {
      "application/vnd.jupyter.widget-view+json": {
       "model_id": "f8de57bce6da4390b0f80b96e7a4b5d5",
       "version_major": 2,
       "version_minor": 0
      },
      "text/plain": [
       "Iteration on eval:   0%|          | 0/129 [00:00<?, ?it/s]"
      ]
     },
     "metadata": {},
     "output_type": "display_data"
    },
    {
     "name": "stdout",
     "output_type": "stream",
     "text": [
      "Valid:73.89%\n",
      "training...\n"
     ]
    },
    {
     "data": {
      "application/vnd.jupyter.widget-view+json": {
       "model_id": "8ad0e5c404e64be79e31063513f34510",
       "version_major": 2,
       "version_minor": 0
      },
      "text/plain": [
       "Iteration on single batch:   0%|          | 0/1029 [00:00<?, ?it/s]"
      ]
     },
     "metadata": {},
     "output_type": "display_data"
    },
    {
     "name": "stdout",
     "output_type": "stream",
     "text": [
      "Eval...\n"
     ]
    },
    {
     "data": {
      "application/vnd.jupyter.widget-view+json": {
       "model_id": "452b16821f934f1bbad824647261b4ba",
       "version_major": 2,
       "version_minor": 0
      },
      "text/plain": [
       "Iteration on eval:   0%|          | 0/129 [00:00<?, ?it/s]"
      ]
     },
     "metadata": {},
     "output_type": "display_data"
    },
    {
     "name": "stdout",
     "output_type": "stream",
     "text": [
      "Valid:76.52%\n",
      "training...\n"
     ]
    },
    {
     "data": {
      "application/vnd.jupyter.widget-view+json": {
       "model_id": "2b5a3051048b41c199dbea91a1000d37",
       "version_major": 2,
       "version_minor": 0
      },
      "text/plain": [
       "Iteration on single batch:   0%|          | 0/1029 [00:00<?, ?it/s]"
      ]
     },
     "metadata": {},
     "output_type": "display_data"
    },
    {
     "name": "stdout",
     "output_type": "stream",
     "text": [
      "Eval...\n"
     ]
    },
    {
     "data": {
      "application/vnd.jupyter.widget-view+json": {
       "model_id": "7c85d04130694a0d8ed2c51e37f27e30",
       "version_major": 2,
       "version_minor": 0
      },
      "text/plain": [
       "Iteration on eval:   0%|          | 0/129 [00:00<?, ?it/s]"
      ]
     },
     "metadata": {},
     "output_type": "display_data"
    },
    {
     "name": "stdout",
     "output_type": "stream",
     "text": [
      "Valid:75.35%\n",
      "training...\n"
     ]
    },
    {
     "data": {
      "application/vnd.jupyter.widget-view+json": {
       "model_id": "f47481d224a549168ce597eface90db6",
       "version_major": 2,
       "version_minor": 0
      },
      "text/plain": [
       "Iteration on single batch:   0%|          | 0/1029 [00:00<?, ?it/s]"
      ]
     },
     "metadata": {},
     "output_type": "display_data"
    },
    {
     "name": "stdout",
     "output_type": "stream",
     "text": [
      "Eval...\n"
     ]
    },
    {
     "data": {
      "application/vnd.jupyter.widget-view+json": {
       "model_id": "abc94791a6a24c479cae16617c6f0d5a",
       "version_major": 2,
       "version_minor": 0
      },
      "text/plain": [
       "Iteration on eval:   0%|          | 0/129 [00:00<?, ?it/s]"
      ]
     },
     "metadata": {},
     "output_type": "display_data"
    },
    {
     "name": "stdout",
     "output_type": "stream",
     "text": [
      "Valid:77.63%\n",
      "training...\n"
     ]
    },
    {
     "data": {
      "application/vnd.jupyter.widget-view+json": {
       "model_id": "91df2342ef184611b39267859555fcb1",
       "version_major": 2,
       "version_minor": 0
      },
      "text/plain": [
       "Iteration on single batch:   0%|          | 0/1029 [00:00<?, ?it/s]"
      ]
     },
     "metadata": {},
     "output_type": "display_data"
    },
    {
     "name": "stdout",
     "output_type": "stream",
     "text": [
      "Eval...\n"
     ]
    },
    {
     "data": {
      "application/vnd.jupyter.widget-view+json": {
       "model_id": "b06601271588457082d30ea62cd8bcff",
       "version_major": 2,
       "version_minor": 0
      },
      "text/plain": [
       "Iteration on eval:   0%|          | 0/129 [00:00<?, ?it/s]"
      ]
     },
     "metadata": {},
     "output_type": "display_data"
    },
    {
     "name": "stdout",
     "output_type": "stream",
     "text": [
      "Valid:78.54%\n",
      "training...\n"
     ]
    },
    {
     "data": {
      "application/vnd.jupyter.widget-view+json": {
       "model_id": "7e9aa2795ef8461db39c55d6a5670fce",
       "version_major": 2,
       "version_minor": 0
      },
      "text/plain": [
       "Iteration on single batch:   0%|          | 0/1029 [00:00<?, ?it/s]"
      ]
     },
     "metadata": {},
     "output_type": "display_data"
    },
    {
     "name": "stdout",
     "output_type": "stream",
     "text": [
      "Eval...\n"
     ]
    },
    {
     "data": {
      "application/vnd.jupyter.widget-view+json": {
       "model_id": "2143ea62440b41f199edf80849c57e1a",
       "version_major": 2,
       "version_minor": 0
      },
      "text/plain": [
       "Iteration on eval:   0%|          | 0/129 [00:00<?, ?it/s]"
      ]
     },
     "metadata": {},
     "output_type": "display_data"
    },
    {
     "name": "stdout",
     "output_type": "stream",
     "text": [
      "Valid:78.41%\n",
      "training...\n"
     ]
    },
    {
     "data": {
      "application/vnd.jupyter.widget-view+json": {
       "model_id": "c7ae3c1059054d449634dfa41700d63d",
       "version_major": 2,
       "version_minor": 0
      },
      "text/plain": [
       "Iteration on single batch:   0%|          | 0/1029 [00:00<?, ?it/s]"
      ]
     },
     "metadata": {},
     "output_type": "display_data"
    },
    {
     "name": "stdout",
     "output_type": "stream",
     "text": [
      "Eval...\n"
     ]
    },
    {
     "data": {
      "application/vnd.jupyter.widget-view+json": {
       "model_id": "1b63dbc415fe40f986027ea4a6afe255",
       "version_major": 2,
       "version_minor": 0
      },
      "text/plain": [
       "Iteration on eval:   0%|          | 0/129 [00:00<?, ?it/s]"
      ]
     },
     "metadata": {},
     "output_type": "display_data"
    },
    {
     "name": "stdout",
     "output_type": "stream",
     "text": [
      "Valid:74.58%\n",
      "training...\n"
     ]
    },
    {
     "data": {
      "application/vnd.jupyter.widget-view+json": {
       "model_id": "c03285f7734446e78f225ce89f84aad9",
       "version_major": 2,
       "version_minor": 0
      },
      "text/plain": [
       "Iteration on single batch:   0%|          | 0/1029 [00:00<?, ?it/s]"
      ]
     },
     "metadata": {},
     "output_type": "display_data"
    },
    {
     "name": "stdout",
     "output_type": "stream",
     "text": [
      "Eval...\n"
     ]
    },
    {
     "data": {
      "application/vnd.jupyter.widget-view+json": {
       "model_id": "1135a4d58bb8479b9f943301ed45e319",
       "version_major": 2,
       "version_minor": 0
      },
      "text/plain": [
       "Iteration on eval:   0%|          | 0/129 [00:00<?, ?it/s]"
      ]
     },
     "metadata": {},
     "output_type": "display_data"
    },
    {
     "name": "stdout",
     "output_type": "stream",
     "text": [
      "Valid:79.08%\n",
      "training...\n"
     ]
    },
    {
     "data": {
      "application/vnd.jupyter.widget-view+json": {
       "model_id": "57ee0460c54f4908b72f6b3f35883851",
       "version_major": 2,
       "version_minor": 0
      },
      "text/plain": [
       "Iteration on single batch:   0%|          | 0/1029 [00:00<?, ?it/s]"
      ]
     },
     "metadata": {},
     "output_type": "display_data"
    },
    {
     "name": "stdout",
     "output_type": "stream",
     "text": [
      "Eval...\n"
     ]
    },
    {
     "data": {
      "application/vnd.jupyter.widget-view+json": {
       "model_id": "f17e6cfcecec4b83a9e78b2ba2ddf78a",
       "version_major": 2,
       "version_minor": 0
      },
      "text/plain": [
       "Iteration on eval:   0%|          | 0/129 [00:00<?, ?it/s]"
      ]
     },
     "metadata": {},
     "output_type": "display_data"
    },
    {
     "name": "stdout",
     "output_type": "stream",
     "text": [
      "Valid:78.10%\n",
      "training...\n"
     ]
    },
    {
     "data": {
      "application/vnd.jupyter.widget-view+json": {
       "model_id": "a9c27724077d45dfa3710c91ca7aa749",
       "version_major": 2,
       "version_minor": 0
      },
      "text/plain": [
       "Iteration on single batch:   0%|          | 0/1029 [00:00<?, ?it/s]"
      ]
     },
     "metadata": {},
     "output_type": "display_data"
    },
    {
     "name": "stdout",
     "output_type": "stream",
     "text": [
      "Eval...\n"
     ]
    },
    {
     "data": {
      "application/vnd.jupyter.widget-view+json": {
       "model_id": "cd392a2779754eec85c255d568194ef8",
       "version_major": 2,
       "version_minor": 0
      },
      "text/plain": [
       "Iteration on eval:   0%|          | 0/129 [00:00<?, ?it/s]"
      ]
     },
     "metadata": {},
     "output_type": "display_data"
    },
    {
     "name": "stdout",
     "output_type": "stream",
     "text": [
      "Valid:72.04%\n",
      "training...\n"
     ]
    },
    {
     "data": {
      "application/vnd.jupyter.widget-view+json": {
       "model_id": "7531cac92e204d4aa637268c9f3e3cba",
       "version_major": 2,
       "version_minor": 0
      },
      "text/plain": [
       "Iteration on single batch:   0%|          | 0/1029 [00:00<?, ?it/s]"
      ]
     },
     "metadata": {},
     "output_type": "display_data"
    },
    {
     "name": "stdout",
     "output_type": "stream",
     "text": [
      "Eval...\n"
     ]
    },
    {
     "data": {
      "application/vnd.jupyter.widget-view+json": {
       "model_id": "8d63f2672f514d92bc16be4868f10d25",
       "version_major": 2,
       "version_minor": 0
      },
      "text/plain": [
       "Iteration on eval:   0%|          | 0/129 [00:00<?, ?it/s]"
      ]
     },
     "metadata": {},
     "output_type": "display_data"
    },
    {
     "name": "stdout",
     "output_type": "stream",
     "text": [
      "Valid:78.65%\n",
      "training...\n"
     ]
    },
    {
     "data": {
      "application/vnd.jupyter.widget-view+json": {
       "model_id": "7386873ef890458cada5197f3800a6a4",
       "version_major": 2,
       "version_minor": 0
      },
      "text/plain": [
       "Iteration on single batch:   0%|          | 0/1029 [00:00<?, ?it/s]"
      ]
     },
     "metadata": {},
     "output_type": "display_data"
    },
    {
     "name": "stdout",
     "output_type": "stream",
     "text": [
      "Eval...\n"
     ]
    },
    {
     "data": {
      "application/vnd.jupyter.widget-view+json": {
       "model_id": "21c2803ebea24706835138eab3d38b3e",
       "version_major": 2,
       "version_minor": 0
      },
      "text/plain": [
       "Iteration on eval:   0%|          | 0/129 [00:00<?, ?it/s]"
      ]
     },
     "metadata": {},
     "output_type": "display_data"
    },
    {
     "name": "stdout",
     "output_type": "stream",
     "text": [
      "Valid:79.20%\n",
      "training...\n"
     ]
    },
    {
     "data": {
      "application/vnd.jupyter.widget-view+json": {
       "model_id": "3be45447d03749428130d16dad2bd1af",
       "version_major": 2,
       "version_minor": 0
      },
      "text/plain": [
       "Iteration on single batch:   0%|          | 0/1029 [00:00<?, ?it/s]"
      ]
     },
     "metadata": {},
     "output_type": "display_data"
    },
    {
     "name": "stdout",
     "output_type": "stream",
     "text": [
      "Eval...\n"
     ]
    },
    {
     "data": {
      "application/vnd.jupyter.widget-view+json": {
       "model_id": "b0472a3616064b60ac2cae3e7c29259e",
       "version_major": 2,
       "version_minor": 0
      },
      "text/plain": [
       "Iteration on eval:   0%|          | 0/129 [00:00<?, ?it/s]"
      ]
     },
     "metadata": {},
     "output_type": "display_data"
    },
    {
     "name": "stdout",
     "output_type": "stream",
     "text": [
      "Valid:79.18%\n",
      "training...\n"
     ]
    },
    {
     "data": {
      "application/vnd.jupyter.widget-view+json": {
       "model_id": "ea02aaff852b44e985d5d9c6b390a7ab",
       "version_major": 2,
       "version_minor": 0
      },
      "text/plain": [
       "Iteration on single batch:   0%|          | 0/1029 [00:00<?, ?it/s]"
      ]
     },
     "metadata": {},
     "output_type": "display_data"
    },
    {
     "name": "stdout",
     "output_type": "stream",
     "text": [
      "Eval...\n"
     ]
    },
    {
     "data": {
      "application/vnd.jupyter.widget-view+json": {
       "model_id": "5324377b312243f19c5afa7217af310d",
       "version_major": 2,
       "version_minor": 0
      },
      "text/plain": [
       "Iteration on eval:   0%|          | 0/129 [00:00<?, ?it/s]"
      ]
     },
     "metadata": {},
     "output_type": "display_data"
    },
    {
     "name": "stdout",
     "output_type": "stream",
     "text": [
      "Valid:79.37%\n",
      "training...\n"
     ]
    },
    {
     "data": {
      "application/vnd.jupyter.widget-view+json": {
       "model_id": "2562524d7ec043fb96c68d1e102e1c6b",
       "version_major": 2,
       "version_minor": 0
      },
      "text/plain": [
       "Iteration on single batch:   0%|          | 0/1029 [00:00<?, ?it/s]"
      ]
     },
     "metadata": {},
     "output_type": "display_data"
    },
    {
     "name": "stdout",
     "output_type": "stream",
     "text": [
      "Eval...\n"
     ]
    },
    {
     "data": {
      "application/vnd.jupyter.widget-view+json": {
       "model_id": "17f2e58584f047bcab32699998c9b5da",
       "version_major": 2,
       "version_minor": 0
      },
      "text/plain": [
       "Iteration on eval:   0%|          | 0/129 [00:00<?, ?it/s]"
      ]
     },
     "metadata": {},
     "output_type": "display_data"
    },
    {
     "name": "stdout",
     "output_type": "stream",
     "text": [
      "Valid:78.04%\n",
      "training...\n"
     ]
    },
    {
     "data": {
      "application/vnd.jupyter.widget-view+json": {
       "model_id": "ec43ff85f7284df89e60f652033e70c5",
       "version_major": 2,
       "version_minor": 0
      },
      "text/plain": [
       "Iteration on single batch:   0%|          | 0/1029 [00:00<?, ?it/s]"
      ]
     },
     "metadata": {},
     "output_type": "display_data"
    },
    {
     "name": "stdout",
     "output_type": "stream",
     "text": [
      "Eval...\n"
     ]
    },
    {
     "data": {
      "application/vnd.jupyter.widget-view+json": {
       "model_id": "982ad876373b482c9f16d79f4ed5cdee",
       "version_major": 2,
       "version_minor": 0
      },
      "text/plain": [
       "Iteration on eval:   0%|          | 0/129 [00:00<?, ?it/s]"
      ]
     },
     "metadata": {},
     "output_type": "display_data"
    },
    {
     "name": "stdout",
     "output_type": "stream",
     "text": [
      "Valid:78.43%\n",
      "training...\n"
     ]
    },
    {
     "data": {
      "application/vnd.jupyter.widget-view+json": {
       "model_id": "3854d29019444a1db6ad34b4327faf61",
       "version_major": 2,
       "version_minor": 0
      },
      "text/plain": [
       "Iteration on single batch:   0%|          | 0/1029 [00:00<?, ?it/s]"
      ]
     },
     "metadata": {},
     "output_type": "display_data"
    },
    {
     "name": "stdout",
     "output_type": "stream",
     "text": [
      "Eval...\n"
     ]
    },
    {
     "data": {
      "application/vnd.jupyter.widget-view+json": {
       "model_id": "9a296e60c66144b58421e77275e43e71",
       "version_major": 2,
       "version_minor": 0
      },
      "text/plain": [
       "Iteration on eval:   0%|          | 0/129 [00:00<?, ?it/s]"
      ]
     },
     "metadata": {},
     "output_type": "display_data"
    },
    {
     "name": "stdout",
     "output_type": "stream",
     "text": [
      "Valid:77.56%\n",
      "training...\n"
     ]
    },
    {
     "data": {
      "application/vnd.jupyter.widget-view+json": {
       "model_id": "894f4c9826f14df4b67a0ec02ae78e6d",
       "version_major": 2,
       "version_minor": 0
      },
      "text/plain": [
       "Iteration on single batch:   0%|          | 0/1029 [00:00<?, ?it/s]"
      ]
     },
     "metadata": {},
     "output_type": "display_data"
    },
    {
     "name": "stdout",
     "output_type": "stream",
     "text": [
      "Eval...\n"
     ]
    },
    {
     "data": {
      "application/vnd.jupyter.widget-view+json": {
       "model_id": "5c633ae026334576b897d199ed514253",
       "version_major": 2,
       "version_minor": 0
      },
      "text/plain": [
       "Iteration on eval:   0%|          | 0/129 [00:00<?, ?it/s]"
      ]
     },
     "metadata": {},
     "output_type": "display_data"
    },
    {
     "name": "stdout",
     "output_type": "stream",
     "text": [
      "Valid:77.75%\n",
      "training...\n"
     ]
    },
    {
     "data": {
      "application/vnd.jupyter.widget-view+json": {
       "model_id": "f5e44417c35441b7b4f5289f0b686c1c",
       "version_major": 2,
       "version_minor": 0
      },
      "text/plain": [
       "Iteration on single batch:   0%|          | 0/1029 [00:00<?, ?it/s]"
      ]
     },
     "metadata": {},
     "output_type": "display_data"
    },
    {
     "name": "stdout",
     "output_type": "stream",
     "text": [
      "Eval...\n"
     ]
    },
    {
     "data": {
      "application/vnd.jupyter.widget-view+json": {
       "model_id": "14bddb9d862b48d48014fb545bb5f04b",
       "version_major": 2,
       "version_minor": 0
      },
      "text/plain": [
       "Iteration on eval:   0%|          | 0/129 [00:00<?, ?it/s]"
      ]
     },
     "metadata": {},
     "output_type": "display_data"
    },
    {
     "name": "stdout",
     "output_type": "stream",
     "text": [
      "Valid:76.53%\n",
      "training...\n"
     ]
    },
    {
     "data": {
      "application/vnd.jupyter.widget-view+json": {
       "model_id": "1aca6d18c80b406da566e2b27e304751",
       "version_major": 2,
       "version_minor": 0
      },
      "text/plain": [
       "Iteration on single batch:   0%|          | 0/1029 [00:00<?, ?it/s]"
      ]
     },
     "metadata": {},
     "output_type": "display_data"
    },
    {
     "name": "stdout",
     "output_type": "stream",
     "text": [
      "Eval...\n"
     ]
    },
    {
     "data": {
      "application/vnd.jupyter.widget-view+json": {
       "model_id": "efb01395723648228d3308ed05cb22db",
       "version_major": 2,
       "version_minor": 0
      },
      "text/plain": [
       "Iteration on eval:   0%|          | 0/129 [00:00<?, ?it/s]"
      ]
     },
     "metadata": {},
     "output_type": "display_data"
    },
    {
     "name": "stdout",
     "output_type": "stream",
     "text": [
      "Valid:79.47%\n",
      "training...\n"
     ]
    },
    {
     "data": {
      "application/vnd.jupyter.widget-view+json": {
       "model_id": "d562deab6a57479db7d8fab9782fb980",
       "version_major": 2,
       "version_minor": 0
      },
      "text/plain": [
       "Iteration on single batch:   0%|          | 0/1029 [00:00<?, ?it/s]"
      ]
     },
     "metadata": {},
     "output_type": "display_data"
    },
    {
     "name": "stdout",
     "output_type": "stream",
     "text": [
      "Eval...\n"
     ]
    },
    {
     "data": {
      "application/vnd.jupyter.widget-view+json": {
       "model_id": "7e056098aa294c0f9e5c5da7e1c44e4b",
       "version_major": 2,
       "version_minor": 0
      },
      "text/plain": [
       "Iteration on eval:   0%|          | 0/129 [00:00<?, ?it/s]"
      ]
     },
     "metadata": {},
     "output_type": "display_data"
    },
    {
     "name": "stdout",
     "output_type": "stream",
     "text": [
      "Valid:77.38%\n",
      "training...\n"
     ]
    },
    {
     "data": {
      "application/vnd.jupyter.widget-view+json": {
       "model_id": "b315ed0b43fd4e2c895c90ff7e24dd27",
       "version_major": 2,
       "version_minor": 0
      },
      "text/plain": [
       "Iteration on single batch:   0%|          | 0/1029 [00:00<?, ?it/s]"
      ]
     },
     "metadata": {},
     "output_type": "display_data"
    },
    {
     "name": "stdout",
     "output_type": "stream",
     "text": [
      "Eval...\n"
     ]
    },
    {
     "data": {
      "application/vnd.jupyter.widget-view+json": {
       "model_id": "c68096c906b145e0ae177d1372b56e6b",
       "version_major": 2,
       "version_minor": 0
      },
      "text/plain": [
       "Iteration on eval:   0%|          | 0/129 [00:00<?, ?it/s]"
      ]
     },
     "metadata": {},
     "output_type": "display_data"
    },
    {
     "name": "stdout",
     "output_type": "stream",
     "text": [
      "Valid:76.93%\n"
     ]
    }
   ],
   "source": [
    "import copy \n",
    "model=GCN_Graph(args['hidden_dim'],dataset.num_tasks,args['num_layers'],args['dropout']).to(device)\n",
    "evaluator=Evaluator(name='ogbg-molhiv')\n",
    "model.reset_parameters()\n",
    "optimizer=torch.optim.Adam(model.parameters(),lr=args['lr'])\n",
    "loss_fn=torch.nn.BCEWithLogitsLoss()\n",
    "\n",
    "best_model=None\n",
    "best_valid_acc=0\n",
    "\n",
    "for epoch in range(1,1+args['epochs']):\n",
    "    print(\"training...\")\n",
    "    loss=train(model,device,train_loader,optimizer,loss_fn)\n",
    "    print('Eval...')\n",
    "    val_result=eval(model,device,valid_loader,evaluator)\n",
    "    valid_acc=val_result[dataset.eval_metric]\n",
    "    if valid_acc>best_valid_acc:\n",
    "        best_valid_acc=valid_acc\n",
    "        best_model=model\n",
    "    print(f'Valid:{100*valid_acc:.2f}%')\n",
    "    "
   ]
  },
  {
   "cell_type": "code",
   "execution_count": 22,
   "metadata": {},
   "outputs": [
    {
     "name": "stdout",
     "output_type": "stream",
     "text": [
      "0.7947163433274544\n"
     ]
    }
   ],
   "source": [
    "print(best_valid_acc)"
   ]
  },
  {
   "cell_type": "code",
   "execution_count": null,
   "metadata": {},
   "outputs": [],
   "source": []
  }
 ],
 "metadata": {
  "interpreter": {
   "hash": "a65a5d72b0551654d0f0fd1b19df23ecb14742447f281acd582799b77c8baba5"
  },
  "kernelspec": {
   "display_name": "Python 3.8.8 64-bit ('base': conda)",
   "language": "python",
   "name": "python3"
  },
  "language_info": {
   "codemirror_mode": {
    "name": "ipython",
    "version": 3
   },
   "file_extension": ".py",
   "mimetype": "text/x-python",
   "name": "python",
   "nbconvert_exporter": "python",
   "pygments_lexer": "ipython3",
   "version": "3.8.12"
  },
  "orig_nbformat": 4
 },
 "nbformat": 4,
 "nbformat_minor": 2
}
